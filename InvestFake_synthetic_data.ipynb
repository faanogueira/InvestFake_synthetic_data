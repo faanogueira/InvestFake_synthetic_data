{
  "nbformat": 4,
  "nbformat_minor": 0,
  "metadata": {
    "colab": {
      "provenance": [],
      "authorship_tag": "ABX9TyP/FwKWixA+7++x/3Wh/YvB",
      "include_colab_link": true
    },
    "kernelspec": {
      "name": "python3",
      "display_name": "Python 3"
    },
    "language_info": {
      "name": "python"
    }
  },
  "cells": [
    {
      "cell_type": "markdown",
      "metadata": {
        "id": "view-in-github",
        "colab_type": "text"
      },
      "source": [
        "<a href=\"https://colab.research.google.com/github/faanogueira/InvestFake_synthetic_data/blob/main/InvestFake_synthetic_data.ipynb\" target=\"_parent\"><img src=\"https://colab.research.google.com/assets/colab-badge.svg\" alt=\"Open In Colab\"/></a>"
      ]
    },
    {
      "cell_type": "markdown",
      "source": [
        "# Atividade Avaliativa 3"
      ],
      "metadata": {
        "id": "_lhCr0iGgQTN"
      }
    },
    {
      "cell_type": "markdown",
      "source": [
        "# \"InvestFake\": Geração de Dados Sintéticos Realistas de Investidores Brasileiros com Faker"
      ],
      "metadata": {
        "id": "nx08bZ1mlb_Q"
      }
    },
    {
      "cell_type": "markdown",
      "source": [
        "## 1. Objetivo do Projeto\n",
        "\n",
        "Criar uma base de dados sintéticos representando investidores brasileiros utilizando técnicas de geração de dados com a biblioteca Faker e modelos probabilísticos da SDV (Synthetic Data Vault). O objetivo é fornecer uma base rica, realista e anonimizada que possa ser utilizada em análises, visualizações, modelagem estatística e testes de aplicações de Data Science sem comprometer dados reais ou sensíveis."
      ],
      "metadata": {
        "id": "Kld6l_nSlpST"
      }
    },
    {
      "cell_type": "markdown",
      "source": [
        "## 2. Definição do Perfil do Investidor e Coleta de Dados (ou Criação de Metadados)\n",
        "Características (colunas) do perfil de um investidor da bolsa brasileira.\n",
        "\n",
        "\n",
        "Dados Demográficos:\n",
        "\n",
        "*   `idade`: Idade do investidor (numérico);\n",
        "*   `genero`: Gênero do investidor (categórico: Masculino, Feminino, Outro);\n",
        "*   `estado_civil`: Estado civil (categórico: Solteiro, Casado, Divorciado, Viúvo);\n",
        "*   `regiao`: Região do Brasil onde reside (categórico: Norte, Nordeste, Centro-Oeste, Sudeste, Sul);\n",
        "*   `renda_mensal`: Renda mensal aproximada (numérico);\n",
        "*   `nivel_educacional`: Nível educacional (categórico: Fundamental, Médio, Superior Incompleto, Superior Completo, Pós-graduado).\n",
        "\n",
        "Dados de Investimento:\n",
        "\n",
        "*   `perfil_investidor`: Perfil de risco (categórico: Conservador, Moderado, Arrojado, Agressivo);\n",
        "*   `tempo_experiencia_mercado`: Anos de experiência investindo (numérico);\n",
        "*   `valor_total_investido`: Montante total investido na bolsa (numérico);\n",
        "*   `objetivo_principal`: Principal objetivo do investimento (categórico: Aposentadoria, Compra de imóvel, Renda passiva, Curto prazo);\n",
        "*   `setores_preferenciais`: Setores de empresas que mais investe (categórico: Financeiro, Varejo, Tecnologia e Commodities);\n",
        "*   `frequencia_operacoes`: Com que frequência opera (categórico: Diária, Semanal, Mensal, Anual);\n",
        "*   `conhecimento_mercado`: Nível de conhecimento sobre o mercado (categórico: Baixo, Médio, Alto);\n",
        "*   `usa_analise_tecnica`: Se utiliza análise técnica (booleano: Sim, Não);\n",
        "*   `usa_analise_fundamentalista`: Se utiliza análise fundamentalista (booleano: Sim, Não)."
      ],
      "metadata": {
        "id": "8NdbMudLmDK3"
      }
    },
    {
      "cell_type": "markdown",
      "source": [
        "## 3. Instalando bibliotecas"
      ],
      "metadata": {
        "id": "qklFMOcGpPmF"
      }
    },
    {
      "cell_type": "code",
      "execution_count": 5,
      "metadata": {
        "collapsed": true,
        "id": "zuvlhaMKf9jN"
      },
      "outputs": [],
      "source": [
        "#!pip install faker"
      ]
    },
    {
      "cell_type": "code",
      "source": [
        "from faker import Faker\n",
        "import pandas as pd\n",
        "import random\n",
        "import numpy as np\n",
        "\n",
        "# Criando um Faker em português do Brasil\n",
        "faker = Faker('pt_BR')"
      ],
      "metadata": {
        "id": "p9hmu5kHRimn"
      },
      "execution_count": 6,
      "outputs": []
    },
    {
      "cell_type": "markdown",
      "source": [
        "## 4. Definindo os valores possíveis para os campos categóricos"
      ],
      "metadata": {
        "id": "eV-gPkxzgUjE"
      }
    },
    {
      "cell_type": "code",
      "source": [
        "generos = ['Masculino', 'Feminino', 'Outro']\n",
        "estado_civil = ['Solteiro', 'Casado', 'Divorciado', 'Viúvo']\n",
        "regioes = ['Norte', 'Nordeste', 'Centro-Oeste', 'Sudeste', 'Sul']\n",
        "niveis_educacionais = ['Fundamental', 'Médio', 'Superior Incompleto', 'Superior Completo', 'Pós-graduado']\n",
        "perfis = ['Conservador', 'Moderado', 'Arrojado', 'Agressivo']\n",
        "objetivos = ['Aposentadoria', 'Compra de Imóvel', 'Renda Passiva', 'Viagem', 'Educação dos Filhos', 'Reserva de Emergência', 'Diversificação', 'Curto Prazo']\n",
        "setores = ['Financeiro', 'Varejo', 'Tecnologia', 'Commodities', 'Saúde', 'Energia Elétrica', 'Saneamento', 'Construção Civil', 'Papel e Celulose', 'Outro']\n",
        "frequencias = ['Day Trade', 'Semanal (Swing Trade)', 'Mensal', 'Anual', 'Ocasional (Buy and Hold)']\n",
        "conhecimento = ['Baixo', 'Médio', 'Alto']\n"
      ],
      "metadata": {
        "id": "8rwd4DzbRp-4"
      },
      "execution_count": 7,
      "outputs": []
    },
    {
      "cell_type": "markdown",
      "source": [
        "## 5. Criando investidor"
      ],
      "metadata": {
        "id": "RlHwtAe9TIQd"
      }
    },
    {
      "cell_type": "code",
      "source": [
        "def gerar_investidor():\n",
        "    idade = random.randint(18, 75)\n",
        "    genero = random.choice(generos)\n",
        "    estado = random.choice(estado_civil)\n",
        "    regiao = random.choice(regioes)\n",
        "    renda = round(random.uniform(1500, 40000), 2)\n",
        "    escolaridade = random.choice(niveis_educacionais)\n",
        "\n",
        "    perfil = random.choice(perfis)\n",
        "    experiencia = round(random.uniform(0, 30), 1)\n",
        "    valor_investido = round(random.uniform(1000, 1000000), 2)\n",
        "    objetivo = random.choice(objetivos)\n",
        "    setor = random.choice(setores)\n",
        "    frequencia = random.choice(frequencias)\n",
        "    conhecimento_mercado = random.choice(conhecimento)\n",
        "    usa_tecnica = random.choice(['Sim', 'Não'])\n",
        "    usa_fundamentalista = random.choice(['Sim', 'Não'])\n",
        "\n",
        "    return {\n",
        "        'idade': idade,\n",
        "        'genero': genero,\n",
        "        'estado_civil': estado,\n",
        "        'regiao': regiao,\n",
        "        'renda_mensal': renda,\n",
        "        'nivel_educacional': escolaridade,\n",
        "        'perfil_investidor': perfil,\n",
        "        'tempo_experiencia_mercado': experiencia,\n",
        "        'valor_total_investido': valor_investido,\n",
        "        'objetivo_principal': objetivo,\n",
        "        'setores_preferenciais': setor,\n",
        "        'frequencia_operacoes': frequencia,\n",
        "        'conhecimento_mercado': conhecimento_mercado,\n",
        "        'usa_analise_tecnica': usa_tecnica,\n",
        "        'usa_analise_fundamentalista': usa_fundamentalista\n",
        "    }\n"
      ],
      "metadata": {
        "id": "fWOPhi7XS1ey"
      },
      "execution_count": 8,
      "outputs": []
    },
    {
      "cell_type": "markdown",
      "source": [
        "## 6. Gerando múltiplos investidores"
      ],
      "metadata": {
        "id": "3CVYcjRlTRMZ"
      }
    },
    {
      "cell_type": "code",
      "source": [
        "def gerar_base_investidores(qtd=20000):\n",
        "    dados = [gerar_investidor() for _ in range(qtd)]\n",
        "    df = pd.DataFrame(dados)\n",
        "    return df"
      ],
      "metadata": {
        "id": "OEJD3EzHTXNU"
      },
      "execution_count": 9,
      "outputs": []
    },
    {
      "cell_type": "code",
      "source": [
        "df = gerar_base_investidores(20000)\n",
        "df.head()"
      ],
      "metadata": {
        "colab": {
          "base_uri": "https://localhost:8080/",
          "height": 278
        },
        "id": "EnqTRlQKTpgR",
        "outputId": "40e91a2d-1953-4184-c12e-58cde8dcebf8"
      },
      "execution_count": 10,
      "outputs": [
        {
          "output_type": "execute_result",
          "data": {
            "text/plain": [
              "   idade     genero estado_civil        regiao  renda_mensal  \\\n",
              "0     66  Masculino        Viúvo         Norte      12760.26   \n",
              "1     50      Outro       Casado  Centro-Oeste      15705.64   \n",
              "2     44   Feminino        Viúvo      Nordeste       3325.68   \n",
              "3     26   Feminino   Divorciado       Sudeste      10291.18   \n",
              "4     26   Feminino        Viúvo  Centro-Oeste      17540.70   \n",
              "\n",
              "     nivel_educacional perfil_investidor  tempo_experiencia_mercado  \\\n",
              "0  Superior Incompleto       Conservador                        8.7   \n",
              "1          Fundamental          Arrojado                       14.6   \n",
              "2  Superior Incompleto          Arrojado                       18.3   \n",
              "3                Médio          Arrojado                       14.2   \n",
              "4          Fundamental          Moderado                       10.0   \n",
              "\n",
              "   valor_total_investido     objetivo_principal setores_preferenciais  \\\n",
              "0              212886.53          Aposentadoria            Saneamento   \n",
              "1              966958.14                 Viagem            Saneamento   \n",
              "2              265247.85          Renda Passiva                 Outro   \n",
              "3              610978.75  Reserva de Emergência                Varejo   \n",
              "4              850388.44         Diversificação      Construção Civil   \n",
              "\n",
              "  frequencia_operacoes conhecimento_mercado usa_analise_tecnica  \\\n",
              "0               Mensal                 Alto                 Sim   \n",
              "1                Anual                Baixo                 Sim   \n",
              "2               Mensal                Médio                 Não   \n",
              "3                Anual                Médio                 Sim   \n",
              "4               Mensal                 Alto                 Não   \n",
              "\n",
              "  usa_analise_fundamentalista  \n",
              "0                         Sim  \n",
              "1                         Não  \n",
              "2                         Não  \n",
              "3                         Sim  \n",
              "4                         Sim  "
            ],
            "text/html": [
              "\n",
              "  <div id=\"df-88436ced-c4a1-4793-90fa-a24063333c09\" class=\"colab-df-container\">\n",
              "    <div>\n",
              "<style scoped>\n",
              "    .dataframe tbody tr th:only-of-type {\n",
              "        vertical-align: middle;\n",
              "    }\n",
              "\n",
              "    .dataframe tbody tr th {\n",
              "        vertical-align: top;\n",
              "    }\n",
              "\n",
              "    .dataframe thead th {\n",
              "        text-align: right;\n",
              "    }\n",
              "</style>\n",
              "<table border=\"1\" class=\"dataframe\">\n",
              "  <thead>\n",
              "    <tr style=\"text-align: right;\">\n",
              "      <th></th>\n",
              "      <th>idade</th>\n",
              "      <th>genero</th>\n",
              "      <th>estado_civil</th>\n",
              "      <th>regiao</th>\n",
              "      <th>renda_mensal</th>\n",
              "      <th>nivel_educacional</th>\n",
              "      <th>perfil_investidor</th>\n",
              "      <th>tempo_experiencia_mercado</th>\n",
              "      <th>valor_total_investido</th>\n",
              "      <th>objetivo_principal</th>\n",
              "      <th>setores_preferenciais</th>\n",
              "      <th>frequencia_operacoes</th>\n",
              "      <th>conhecimento_mercado</th>\n",
              "      <th>usa_analise_tecnica</th>\n",
              "      <th>usa_analise_fundamentalista</th>\n",
              "    </tr>\n",
              "  </thead>\n",
              "  <tbody>\n",
              "    <tr>\n",
              "      <th>0</th>\n",
              "      <td>66</td>\n",
              "      <td>Masculino</td>\n",
              "      <td>Viúvo</td>\n",
              "      <td>Norte</td>\n",
              "      <td>12760.26</td>\n",
              "      <td>Superior Incompleto</td>\n",
              "      <td>Conservador</td>\n",
              "      <td>8.7</td>\n",
              "      <td>212886.53</td>\n",
              "      <td>Aposentadoria</td>\n",
              "      <td>Saneamento</td>\n",
              "      <td>Mensal</td>\n",
              "      <td>Alto</td>\n",
              "      <td>Sim</td>\n",
              "      <td>Sim</td>\n",
              "    </tr>\n",
              "    <tr>\n",
              "      <th>1</th>\n",
              "      <td>50</td>\n",
              "      <td>Outro</td>\n",
              "      <td>Casado</td>\n",
              "      <td>Centro-Oeste</td>\n",
              "      <td>15705.64</td>\n",
              "      <td>Fundamental</td>\n",
              "      <td>Arrojado</td>\n",
              "      <td>14.6</td>\n",
              "      <td>966958.14</td>\n",
              "      <td>Viagem</td>\n",
              "      <td>Saneamento</td>\n",
              "      <td>Anual</td>\n",
              "      <td>Baixo</td>\n",
              "      <td>Sim</td>\n",
              "      <td>Não</td>\n",
              "    </tr>\n",
              "    <tr>\n",
              "      <th>2</th>\n",
              "      <td>44</td>\n",
              "      <td>Feminino</td>\n",
              "      <td>Viúvo</td>\n",
              "      <td>Nordeste</td>\n",
              "      <td>3325.68</td>\n",
              "      <td>Superior Incompleto</td>\n",
              "      <td>Arrojado</td>\n",
              "      <td>18.3</td>\n",
              "      <td>265247.85</td>\n",
              "      <td>Renda Passiva</td>\n",
              "      <td>Outro</td>\n",
              "      <td>Mensal</td>\n",
              "      <td>Médio</td>\n",
              "      <td>Não</td>\n",
              "      <td>Não</td>\n",
              "    </tr>\n",
              "    <tr>\n",
              "      <th>3</th>\n",
              "      <td>26</td>\n",
              "      <td>Feminino</td>\n",
              "      <td>Divorciado</td>\n",
              "      <td>Sudeste</td>\n",
              "      <td>10291.18</td>\n",
              "      <td>Médio</td>\n",
              "      <td>Arrojado</td>\n",
              "      <td>14.2</td>\n",
              "      <td>610978.75</td>\n",
              "      <td>Reserva de Emergência</td>\n",
              "      <td>Varejo</td>\n",
              "      <td>Anual</td>\n",
              "      <td>Médio</td>\n",
              "      <td>Sim</td>\n",
              "      <td>Sim</td>\n",
              "    </tr>\n",
              "    <tr>\n",
              "      <th>4</th>\n",
              "      <td>26</td>\n",
              "      <td>Feminino</td>\n",
              "      <td>Viúvo</td>\n",
              "      <td>Centro-Oeste</td>\n",
              "      <td>17540.70</td>\n",
              "      <td>Fundamental</td>\n",
              "      <td>Moderado</td>\n",
              "      <td>10.0</td>\n",
              "      <td>850388.44</td>\n",
              "      <td>Diversificação</td>\n",
              "      <td>Construção Civil</td>\n",
              "      <td>Mensal</td>\n",
              "      <td>Alto</td>\n",
              "      <td>Não</td>\n",
              "      <td>Sim</td>\n",
              "    </tr>\n",
              "  </tbody>\n",
              "</table>\n",
              "</div>\n",
              "    <div class=\"colab-df-buttons\">\n",
              "\n",
              "  <div class=\"colab-df-container\">\n",
              "    <button class=\"colab-df-convert\" onclick=\"convertToInteractive('df-88436ced-c4a1-4793-90fa-a24063333c09')\"\n",
              "            title=\"Convert this dataframe to an interactive table.\"\n",
              "            style=\"display:none;\">\n",
              "\n",
              "  <svg xmlns=\"http://www.w3.org/2000/svg\" height=\"24px\" viewBox=\"0 -960 960 960\">\n",
              "    <path d=\"M120-120v-720h720v720H120Zm60-500h600v-160H180v160Zm220 220h160v-160H400v160Zm0 220h160v-160H400v160ZM180-400h160v-160H180v160Zm440 0h160v-160H620v160ZM180-180h160v-160H180v160Zm440 0h160v-160H620v160Z\"/>\n",
              "  </svg>\n",
              "    </button>\n",
              "\n",
              "  <style>\n",
              "    .colab-df-container {\n",
              "      display:flex;\n",
              "      gap: 12px;\n",
              "    }\n",
              "\n",
              "    .colab-df-convert {\n",
              "      background-color: #E8F0FE;\n",
              "      border: none;\n",
              "      border-radius: 50%;\n",
              "      cursor: pointer;\n",
              "      display: none;\n",
              "      fill: #1967D2;\n",
              "      height: 32px;\n",
              "      padding: 0 0 0 0;\n",
              "      width: 32px;\n",
              "    }\n",
              "\n",
              "    .colab-df-convert:hover {\n",
              "      background-color: #E2EBFA;\n",
              "      box-shadow: 0px 1px 2px rgba(60, 64, 67, 0.3), 0px 1px 3px 1px rgba(60, 64, 67, 0.15);\n",
              "      fill: #174EA6;\n",
              "    }\n",
              "\n",
              "    .colab-df-buttons div {\n",
              "      margin-bottom: 4px;\n",
              "    }\n",
              "\n",
              "    [theme=dark] .colab-df-convert {\n",
              "      background-color: #3B4455;\n",
              "      fill: #D2E3FC;\n",
              "    }\n",
              "\n",
              "    [theme=dark] .colab-df-convert:hover {\n",
              "      background-color: #434B5C;\n",
              "      box-shadow: 0px 1px 3px 1px rgba(0, 0, 0, 0.15);\n",
              "      filter: drop-shadow(0px 1px 2px rgba(0, 0, 0, 0.3));\n",
              "      fill: #FFFFFF;\n",
              "    }\n",
              "  </style>\n",
              "\n",
              "    <script>\n",
              "      const buttonEl =\n",
              "        document.querySelector('#df-88436ced-c4a1-4793-90fa-a24063333c09 button.colab-df-convert');\n",
              "      buttonEl.style.display =\n",
              "        google.colab.kernel.accessAllowed ? 'block' : 'none';\n",
              "\n",
              "      async function convertToInteractive(key) {\n",
              "        const element = document.querySelector('#df-88436ced-c4a1-4793-90fa-a24063333c09');\n",
              "        const dataTable =\n",
              "          await google.colab.kernel.invokeFunction('convertToInteractive',\n",
              "                                                    [key], {});\n",
              "        if (!dataTable) return;\n",
              "\n",
              "        const docLinkHtml = 'Like what you see? Visit the ' +\n",
              "          '<a target=\"_blank\" href=https://colab.research.google.com/notebooks/data_table.ipynb>data table notebook</a>'\n",
              "          + ' to learn more about interactive tables.';\n",
              "        element.innerHTML = '';\n",
              "        dataTable['output_type'] = 'display_data';\n",
              "        await google.colab.output.renderOutput(dataTable, element);\n",
              "        const docLink = document.createElement('div');\n",
              "        docLink.innerHTML = docLinkHtml;\n",
              "        element.appendChild(docLink);\n",
              "      }\n",
              "    </script>\n",
              "  </div>\n",
              "\n",
              "\n",
              "    <div id=\"df-a47430ce-cfb3-4d74-afaa-9aee5b4c85f2\">\n",
              "      <button class=\"colab-df-quickchart\" onclick=\"quickchart('df-a47430ce-cfb3-4d74-afaa-9aee5b4c85f2')\"\n",
              "                title=\"Suggest charts\"\n",
              "                style=\"display:none;\">\n",
              "\n",
              "<svg xmlns=\"http://www.w3.org/2000/svg\" height=\"24px\"viewBox=\"0 0 24 24\"\n",
              "     width=\"24px\">\n",
              "    <g>\n",
              "        <path d=\"M19 3H5c-1.1 0-2 .9-2 2v14c0 1.1.9 2 2 2h14c1.1 0 2-.9 2-2V5c0-1.1-.9-2-2-2zM9 17H7v-7h2v7zm4 0h-2V7h2v10zm4 0h-2v-4h2v4z\"/>\n",
              "    </g>\n",
              "</svg>\n",
              "      </button>\n",
              "\n",
              "<style>\n",
              "  .colab-df-quickchart {\n",
              "      --bg-color: #E8F0FE;\n",
              "      --fill-color: #1967D2;\n",
              "      --hover-bg-color: #E2EBFA;\n",
              "      --hover-fill-color: #174EA6;\n",
              "      --disabled-fill-color: #AAA;\n",
              "      --disabled-bg-color: #DDD;\n",
              "  }\n",
              "\n",
              "  [theme=dark] .colab-df-quickchart {\n",
              "      --bg-color: #3B4455;\n",
              "      --fill-color: #D2E3FC;\n",
              "      --hover-bg-color: #434B5C;\n",
              "      --hover-fill-color: #FFFFFF;\n",
              "      --disabled-bg-color: #3B4455;\n",
              "      --disabled-fill-color: #666;\n",
              "  }\n",
              "\n",
              "  .colab-df-quickchart {\n",
              "    background-color: var(--bg-color);\n",
              "    border: none;\n",
              "    border-radius: 50%;\n",
              "    cursor: pointer;\n",
              "    display: none;\n",
              "    fill: var(--fill-color);\n",
              "    height: 32px;\n",
              "    padding: 0;\n",
              "    width: 32px;\n",
              "  }\n",
              "\n",
              "  .colab-df-quickchart:hover {\n",
              "    background-color: var(--hover-bg-color);\n",
              "    box-shadow: 0 1px 2px rgba(60, 64, 67, 0.3), 0 1px 3px 1px rgba(60, 64, 67, 0.15);\n",
              "    fill: var(--button-hover-fill-color);\n",
              "  }\n",
              "\n",
              "  .colab-df-quickchart-complete:disabled,\n",
              "  .colab-df-quickchart-complete:disabled:hover {\n",
              "    background-color: var(--disabled-bg-color);\n",
              "    fill: var(--disabled-fill-color);\n",
              "    box-shadow: none;\n",
              "  }\n",
              "\n",
              "  .colab-df-spinner {\n",
              "    border: 2px solid var(--fill-color);\n",
              "    border-color: transparent;\n",
              "    border-bottom-color: var(--fill-color);\n",
              "    animation:\n",
              "      spin 1s steps(1) infinite;\n",
              "  }\n",
              "\n",
              "  @keyframes spin {\n",
              "    0% {\n",
              "      border-color: transparent;\n",
              "      border-bottom-color: var(--fill-color);\n",
              "      border-left-color: var(--fill-color);\n",
              "    }\n",
              "    20% {\n",
              "      border-color: transparent;\n",
              "      border-left-color: var(--fill-color);\n",
              "      border-top-color: var(--fill-color);\n",
              "    }\n",
              "    30% {\n",
              "      border-color: transparent;\n",
              "      border-left-color: var(--fill-color);\n",
              "      border-top-color: var(--fill-color);\n",
              "      border-right-color: var(--fill-color);\n",
              "    }\n",
              "    40% {\n",
              "      border-color: transparent;\n",
              "      border-right-color: var(--fill-color);\n",
              "      border-top-color: var(--fill-color);\n",
              "    }\n",
              "    60% {\n",
              "      border-color: transparent;\n",
              "      border-right-color: var(--fill-color);\n",
              "    }\n",
              "    80% {\n",
              "      border-color: transparent;\n",
              "      border-right-color: var(--fill-color);\n",
              "      border-bottom-color: var(--fill-color);\n",
              "    }\n",
              "    90% {\n",
              "      border-color: transparent;\n",
              "      border-bottom-color: var(--fill-color);\n",
              "    }\n",
              "  }\n",
              "</style>\n",
              "\n",
              "      <script>\n",
              "        async function quickchart(key) {\n",
              "          const quickchartButtonEl =\n",
              "            document.querySelector('#' + key + ' button');\n",
              "          quickchartButtonEl.disabled = true;  // To prevent multiple clicks.\n",
              "          quickchartButtonEl.classList.add('colab-df-spinner');\n",
              "          try {\n",
              "            const charts = await google.colab.kernel.invokeFunction(\n",
              "                'suggestCharts', [key], {});\n",
              "          } catch (error) {\n",
              "            console.error('Error during call to suggestCharts:', error);\n",
              "          }\n",
              "          quickchartButtonEl.classList.remove('colab-df-spinner');\n",
              "          quickchartButtonEl.classList.add('colab-df-quickchart-complete');\n",
              "        }\n",
              "        (() => {\n",
              "          let quickchartButtonEl =\n",
              "            document.querySelector('#df-a47430ce-cfb3-4d74-afaa-9aee5b4c85f2 button');\n",
              "          quickchartButtonEl.style.display =\n",
              "            google.colab.kernel.accessAllowed ? 'block' : 'none';\n",
              "        })();\n",
              "      </script>\n",
              "    </div>\n",
              "\n",
              "    </div>\n",
              "  </div>\n"
            ],
            "application/vnd.google.colaboratory.intrinsic+json": {
              "type": "dataframe",
              "variable_name": "df",
              "summary": "{\n  \"name\": \"df\",\n  \"rows\": 20000,\n  \"fields\": [\n    {\n      \"column\": \"idade\",\n      \"properties\": {\n        \"dtype\": \"number\",\n        \"std\": 16,\n        \"min\": 18,\n        \"max\": 75,\n        \"num_unique_values\": 58,\n        \"samples\": [\n          66,\n          55,\n          19\n        ],\n        \"semantic_type\": \"\",\n        \"description\": \"\"\n      }\n    },\n    {\n      \"column\": \"genero\",\n      \"properties\": {\n        \"dtype\": \"category\",\n        \"num_unique_values\": 3,\n        \"samples\": [\n          \"Masculino\",\n          \"Outro\",\n          \"Feminino\"\n        ],\n        \"semantic_type\": \"\",\n        \"description\": \"\"\n      }\n    },\n    {\n      \"column\": \"estado_civil\",\n      \"properties\": {\n        \"dtype\": \"category\",\n        \"num_unique_values\": 4,\n        \"samples\": [\n          \"Casado\",\n          \"Solteiro\",\n          \"Vi\\u00favo\"\n        ],\n        \"semantic_type\": \"\",\n        \"description\": \"\"\n      }\n    },\n    {\n      \"column\": \"regiao\",\n      \"properties\": {\n        \"dtype\": \"category\",\n        \"num_unique_values\": 5,\n        \"samples\": [\n          \"Centro-Oeste\",\n          \"Sul\",\n          \"Nordeste\"\n        ],\n        \"semantic_type\": \"\",\n        \"description\": \"\"\n      }\n    },\n    {\n      \"column\": \"renda_mensal\",\n      \"properties\": {\n        \"dtype\": \"number\",\n        \"std\": 11068.24889852685,\n        \"min\": 1500.72,\n        \"max\": 39997.55,\n        \"num_unique_values\": 19930,\n        \"samples\": [\n          18929.87,\n          23734.86,\n          9930.84\n        ],\n        \"semantic_type\": \"\",\n        \"description\": \"\"\n      }\n    },\n    {\n      \"column\": \"nivel_educacional\",\n      \"properties\": {\n        \"dtype\": \"category\",\n        \"num_unique_values\": 5,\n        \"samples\": [\n          \"Fundamental\",\n          \"P\\u00f3s-graduado\",\n          \"M\\u00e9dio\"\n        ],\n        \"semantic_type\": \"\",\n        \"description\": \"\"\n      }\n    },\n    {\n      \"column\": \"perfil_investidor\",\n      \"properties\": {\n        \"dtype\": \"category\",\n        \"num_unique_values\": 4,\n        \"samples\": [\n          \"Arrojado\",\n          \"Agressivo\",\n          \"Conservador\"\n        ],\n        \"semantic_type\": \"\",\n        \"description\": \"\"\n      }\n    },\n    {\n      \"column\": \"tempo_experiencia_mercado\",\n      \"properties\": {\n        \"dtype\": \"number\",\n        \"std\": 8.672747917574704,\n        \"min\": 0.0,\n        \"max\": 30.0,\n        \"num_unique_values\": 301,\n        \"samples\": [\n          13.2,\n          21.2,\n          21.3\n        ],\n        \"semantic_type\": \"\",\n        \"description\": \"\"\n      }\n    },\n    {\n      \"column\": \"valor_total_investido\",\n      \"properties\": {\n        \"dtype\": \"number\",\n        \"std\": 288464.67841901834,\n        \"min\": 1039.73,\n        \"max\": 999896.74,\n        \"num_unique_values\": 20000,\n        \"samples\": [\n          101475.05,\n          680818.39,\n          796643.62\n        ],\n        \"semantic_type\": \"\",\n        \"description\": \"\"\n      }\n    },\n    {\n      \"column\": \"objetivo_principal\",\n      \"properties\": {\n        \"dtype\": \"category\",\n        \"num_unique_values\": 8,\n        \"samples\": [\n          \"Viagem\",\n          \"Educa\\u00e7\\u00e3o dos Filhos\",\n          \"Aposentadoria\"\n        ],\n        \"semantic_type\": \"\",\n        \"description\": \"\"\n      }\n    },\n    {\n      \"column\": \"setores_preferenciais\",\n      \"properties\": {\n        \"dtype\": \"category\",\n        \"num_unique_values\": 10,\n        \"samples\": [\n          \"Energia El\\u00e9trica\",\n          \"Outro\",\n          \"Tecnologia\"\n        ],\n        \"semantic_type\": \"\",\n        \"description\": \"\"\n      }\n    },\n    {\n      \"column\": \"frequencia_operacoes\",\n      \"properties\": {\n        \"dtype\": \"category\",\n        \"num_unique_values\": 5,\n        \"samples\": [\n          \"Anual\",\n          \"Day Trade\",\n          \"Ocasional (Buy and Hold)\"\n        ],\n        \"semantic_type\": \"\",\n        \"description\": \"\"\n      }\n    },\n    {\n      \"column\": \"conhecimento_mercado\",\n      \"properties\": {\n        \"dtype\": \"category\",\n        \"num_unique_values\": 3,\n        \"samples\": [\n          \"Alto\",\n          \"Baixo\",\n          \"M\\u00e9dio\"\n        ],\n        \"semantic_type\": \"\",\n        \"description\": \"\"\n      }\n    },\n    {\n      \"column\": \"usa_analise_tecnica\",\n      \"properties\": {\n        \"dtype\": \"category\",\n        \"num_unique_values\": 2,\n        \"samples\": [\n          \"N\\u00e3o\",\n          \"Sim\"\n        ],\n        \"semantic_type\": \"\",\n        \"description\": \"\"\n      }\n    },\n    {\n      \"column\": \"usa_analise_fundamentalista\",\n      \"properties\": {\n        \"dtype\": \"category\",\n        \"num_unique_values\": 2,\n        \"samples\": [\n          \"N\\u00e3o\",\n          \"Sim\"\n        ],\n        \"semantic_type\": \"\",\n        \"description\": \"\"\n      }\n    }\n  ]\n}"
            }
          },
          "metadata": {},
          "execution_count": 10
        }
      ]
    },
    {
      "cell_type": "code",
      "source": [
        "df.shape"
      ],
      "metadata": {
        "id": "2CyP5xoRmsYq",
        "outputId": "f935dc61-4fce-49d6-e0ff-b2a3b1153875",
        "colab": {
          "base_uri": "https://localhost:8080/"
        }
      },
      "execution_count": 11,
      "outputs": [
        {
          "output_type": "execute_result",
          "data": {
            "text/plain": [
              "(20000, 15)"
            ]
          },
          "metadata": {},
          "execution_count": 11
        }
      ]
    },
    {
      "cell_type": "code",
      "source": [
        "df.to_csv('investidores.csv', index=False)"
      ],
      "metadata": {
        "id": "g7XNEREGI-U8"
      },
      "execution_count": 12,
      "outputs": []
    }
  ]
}